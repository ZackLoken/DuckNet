{
 "cells": [
  {
   "cell_type": "code",
   "execution_count": null,
   "metadata": {},
   "outputs": [],
   "source": [
    "import torch, torchvision\n",
    "from torch.package.package_importer import PackageImporter\n",
    "from torchvision.transforms.functional import to_tensor\n",
    "torchvision.disable_beta_transforms_warning()\n",
    "import matplotlib.pyplot as plt\n",
    "from matplotlib.patches import Rectangle\n",
    "import numpy as np\n",
    "import os\n",
    "import modellib"
   ]
  },
  {
   "cell_type": "markdown",
   "metadata": {},
   "source": [
    "### <center>Package DuckNet model</center>"
   ]
  },
  {
   "cell_type": "code",
   "execution_count": null,
   "metadata": {},
   "outputs": [],
   "source": [
    "model = modellib.DuckDetector(classes_of_interest=[ # class order must match the label_dict from training\n",
    "                                    'AMCO', 'GADW', 'GWTE', 'Hen', 'MALL', 'NOPI', 'NSHO', 'REDH', 'RNDU'])\n",
    "model.save(\"basemodel.pt.zip\")\n",
    "imp = PackageImporter(\"basemodel.pt.zip\")\n",
    "print(imp.file_structure())"
   ]
  },
  {
   "cell_type": "markdown",
   "metadata": {},
   "source": [
    "### <center>Open packaged model</center>"
   ]
  },
  {
   "cell_type": "code",
   "execution_count": null,
   "metadata": {},
   "outputs": [],
   "source": [
    "def load_model(file_path:str, model_name:str) -> \"torch.nn.Module\":\n",
    "            return PackageImporter(file_path).load_pickle(model_name, f'{model_name}.pkl', map_location='cpu')\n",
    "model = load_model(file_path='basemodel.pt.zip', model_name='model')\n",
    "print(model)"
   ]
  },
  {
   "cell_type": "markdown",
   "metadata": {},
   "source": [
    "### <center> Process sample images </center>"
   ]
  },
  {
   "cell_type": "code",
   "execution_count": null,
   "metadata": {},
   "outputs": [],
   "source": [
    "# turn model.class_list into a dictionary\n",
    "print(f\"Model classes: {model.class_list}\")\n",
    "label_dict = {i+1: model.class_list[i] for i in range(len(model.class_list))}\n",
    "\n",
    "# distinct colors \n",
    "distinct_colors = ['#f032e6', '#ffffff', '#ffe119', '#3cb44b', '#42d4f4',\n",
    "                    '#f58231', '#e6194B', '#dcbeff', '#469990', '#4363d8']\n",
    "\n",
    "# label color map for plotting color-coded boxes by class\n",
    "label_color_map = {k: distinct_colors[i] for i, k in enumerate(label_dict.keys())}\n",
    "\n",
    "# classes are values in label_dict\n",
    "classes = list(label_dict.values())\n",
    "\n",
    "# reverse label dictionary for mapping predictions to classes\n",
    "rev_label_dict = {v: k for k, v in label_dict.items()}\n",
    "\n",
    "# distinct colors \n",
    "distinct_colors = ['#f032e6', '#ffffff', '#ffe119', '#3cb44b', '#42d4f4',\n",
    "                    '#f58231', '#e6194B', '#dcbeff', '#469990', '#4363d8']\n",
    "\n",
    "# label color map for plotting color-coded boxes by class\n",
    "label_color_map = {k: distinct_colors[i] for i, k in enumerate(label_dict.keys())}\n",
    "\n",
    "# function for reshaping boxes \n",
    "def get_box(boxes):\n",
    "    boxes = np.array(boxes)\n",
    "    boxes = boxes.astype('float').reshape(-1, 4)\n",
    "    if boxes.shape[0] == 1 : return boxes\n",
    "    return np.squeeze(boxes)\n",
    "\n",
    "# function for plotting image\n",
    "def img_show(image, ax = None, figsize = (6, 9)):\n",
    "    if ax is None:\n",
    "        fig, ax = plt.subplots(figsize = figsize)\n",
    "    ax.xaxis.tick_top()\n",
    "    ax.imshow(image)\n",
    "    return ax\n",
    " \n",
    "def plot_bbox(ax, boxes, labels):\n",
    "    # Determine if we have a string or tensor label\n",
    "    if isinstance(labels, str):\n",
    "        # String label - convert to numeric using rev_label_dict\n",
    "        numeric_label = rev_label_dict.get(labels, None)\n",
    "        color = label_color_map[numeric_label] if numeric_label in label_color_map else 'black'\n",
    "        display_text = labels  # Use the string label directly\n",
    "    else:\n",
    "        # Tensor/numeric label\n",
    "        numeric_label = labels.item() if hasattr(labels, 'item') else labels\n",
    "        color = label_color_map[numeric_label] if numeric_label in label_color_map else 'black'\n",
    "        display_text = label_dict[numeric_label] if numeric_label in label_dict else numeric_label\n",
    "    \n",
    "    # Draw bounding box\n",
    "    ax.add_patch(Rectangle((boxes[:, 0], boxes[:, 1]), \n",
    "                               boxes[:, 2] - boxes[:, 0], boxes[:, 3] - boxes[:, 1],\n",
    "                               fill=False,\n",
    "                               color=color, \n",
    "                               linewidth=1.25))\n",
    "    \n",
    "    # Add label text\n",
    "    ax.text(boxes[:, 2], boxes[:, 3], \n",
    "            display_text,\n",
    "            fontsize=8,\n",
    "            bbox=dict(facecolor='white', alpha=0.8, pad=0, edgecolor='none'),\n",
    "            color='black')\n",
    "\n",
    "# function for plotting all boxes and labels on the image using get_polygon, img_show, and plot_mask functions\n",
    "def plot_detections(image, boxes, labels, ax = None):\n",
    "    ax = img_show(image.permute(1, 2, 0), ax = ax)\n",
    "    for i in range(len(boxes)):\n",
    "        box = get_box(boxes[i])\n",
    "        plot_bbox(ax, box, labels[i])"
   ]
  },
  {
   "cell_type": "code",
   "execution_count": null,
   "metadata": {},
   "outputs": [],
   "source": [
    "image_path = 'S:/Savanna Institute/Deep Learning/DuckNet/RetinaNet/filtered_images/DJI_20221216103105_0073_Z.JPG'\n",
    "prediction = model.process_image(image_path)\n",
    "print()\n",
    "print(f\"Prediction: {prediction}\")\n",
    "print()\n",
    "image = model.load_image(image_path)\n",
    "image = to_tensor(image)\n",
    "\n",
    "plot_detections(image, prediction['boxes'], prediction['labels']) "
   ]
  },
  {
   "cell_type": "markdown",
   "metadata": {},
   "source": [
    "### <center> Plot sample batch of transformed data </center>"
   ]
  },
  {
   "cell_type": "code",
   "execution_count": null,
   "metadata": {},
   "outputs": [],
   "source": [
    "# import datasets module from basemodel.pt.zip\n",
    "file_path = 'basemodel.pt.zip'\n",
    "module = 'datasets'\n",
    "\n",
    "datasets = PackageImporter(file_path).import_module(module)\n",
    "\n",
    "def get_files(directory: str, extension: str):\n",
    "    \"\"\"\n",
    "    Returns a sorted list of full file paths from a directory that match the given extension.\n",
    "    Extension should include the dot (e.g. \".jpg\", \".json\").\n",
    "    \"\"\"\n",
    "    return [os.path.join(directory, f) for f in sorted(os.listdir(directory))\n",
    "            if f.lower().endswith(extension.lower())]\n",
    "\n",
    "# Create sample dataset\n",
    "jpg_dir = 'S:/Savanna Institute/Deep Learning/DuckNet/RetinaNet/filtered_images/'\n",
    "json_dir = 'S:/Savanna Institute/Deep Learning/DuckNet/RetinaNet/filtered_annotations/'\n",
    "\n",
    "jpgfiles = get_files(jpg_dir, '.jpg')\n",
    "jsonfiles = get_files(json_dir, '.json')\n",
    "\n",
    "sample_dataset = datasets.DetectionDataset( # type: ignore\n",
    "    jpgfiles=jpgfiles,\n",
    "    jsonfiles=jsonfiles,\n",
    "    augment=True,\n",
    "    negative_classes=[],\n",
    "    class_list=model.class_list\n",
    ")\n",
    "\n",
    "image, target = sample_dataset[2]\n",
    "print(image.shape)\n",
    "print(target)"
   ]
  },
  {
   "cell_type": "code",
   "execution_count": null,
   "metadata": {},
   "outputs": [],
   "source": [
    "sample_dataloader = datasets.create_dataloader(sample_dataset, batch_size = 8, shuffle = True, num_workers=0) # type: ignore"
   ]
  },
  {
   "cell_type": "code",
   "execution_count": null,
   "metadata": {},
   "outputs": [],
   "source": [
    "images, targets = next(iter(sample_dataloader))\n",
    "images = list(image for image in images)\n",
    "targets = [{k: v for k, v in t.items()} for t in targets]"
   ]
  },
  {
   "cell_type": "code",
   "execution_count": null,
   "metadata": {},
   "outputs": [],
   "source": [
    "# Plot the all samples from batch in a grid of subplots. \n",
    "plt.figure(figsize = (12, 32))\n",
    "for i in range(8):\n",
    "    ax = plt.subplot(8, 2, 1 + i)\n",
    "    plot_detections(images[i], targets[i]['boxes'], targets[i]['labels'], ax = ax)\n",
    "    plt.axis('off')\n",
    "    plt.title(f\"Sample {i + 1}\")\n",
    "\n",
    "plt.show()"
   ]
  },
  {
   "cell_type": "markdown",
   "metadata": {},
   "source": [
    "### <center>Train model</center> "
   ]
  },
  {
   "cell_type": "code",
   "execution_count": null,
   "metadata": {},
   "outputs": [],
   "source": [
    "model = load_model(file_path='basemodel.pt.zip', model_name='model')\n",
    "imagefiles_train = get_files('S:/Savanna Institute/Deep Learning/DuckNet/RetinaNet/test/images/', '.jpg')\n",
    "jsonfiles_train = get_files('S:/Savanna Institute/Deep Learning/DuckNet/RetinaNet/test/annotations/', '.json')\n",
    "imagefiles_test = get_files('S:/Savanna Institute/Deep Learning/DuckNet/RetinaNet/test/images/', '.jpg')\n",
    "jsonfiles_test = get_files('S:/Savanna Institute/Deep Learning/DuckNet/RetinaNet/test/annotations/', '.json')\n",
    "model.start_training_detector(imagefiles_train = imagefiles_train,\n",
    "                              jsonfiles_train = jsonfiles_train,\n",
    "                              imagefiles_test = imagefiles_test,\n",
    "                              jsonfiles_test = jsonfiles_test,\n",
    "                              negative_classes = [],\n",
    "                              epochs = 2,\n",
    "                              lr = 0.001,\n",
    "                              )"
   ]
  },
  {
   "cell_type": "markdown",
   "metadata": {},
   "source": [
    "### <center>Save finetuned model</center> "
   ]
  },
  {
   "cell_type": "code",
   "execution_count": null,
   "metadata": {},
   "outputs": [],
   "source": [
    "model.save('basemodel_finetuned.pt.zip')"
   ]
  },
  {
   "cell_type": "markdown",
   "metadata": {},
   "source": [
    "### <center> Converting Darwin JSON to LabelMe JSON </center>"
   ]
  },
  {
   "cell_type": "code",
   "execution_count": null,
   "metadata": {},
   "outputs": [],
   "source": [
    "# import json \n",
    "\n",
    "# def get_imagename_from_jsonfile(jsonfile):\n",
    "#     with open(jsonfile, 'r') as j:\n",
    "#         jsondata = json.loads(j.read())\n",
    "#     return jsondata['item']['slots'][0]['source_files'][0]['file_name']\n",
    "\n",
    "\n",
    "# def get_boxes_from_jsonfile(jsonfile):\n",
    "#     '''Reads bounding boxes from a DARWIN json file and returns them as a (Nx4) array'''\n",
    "#     with open(jsonfile, 'r') as j:\n",
    "#         jsondata = json.loads(j.read())\n",
    "        \n",
    "#     boxes = []\n",
    "#     for i in range(len(jsondata['annotations'])):\n",
    "#         box = [[jsondata['annotations'][i]['bounding_box']['x'], # xmin\n",
    "#                 jsondata['annotations'][i]['bounding_box']['y']], # ymin\n",
    "#                 [jsondata['annotations'][i]['bounding_box']['x']+jsondata['annotations'][i]['bounding_box']['w'], # xmax\n",
    "#                 jsondata['annotations'][i]['bounding_box']['y']+jsondata['annotations'][i]['bounding_box']['h']]] # ymax\n",
    "#         boxes.append(box)\n",
    "#     return boxes # return as (Nx4) array of bounding\n",
    "\n",
    "\n",
    "# def get_labels_from_jsonfile(jsonfile):\n",
    "#     '''Reads a list of labels in a DARWIN json file.'''\n",
    "#     with open(jsonfile, 'r') as j:\n",
    "#         jsondata = json.loads(j.read())\n",
    "#     return [ a['name'] for a in jsondata['annotations'] ]\n",
    " \n",
    "\n",
    "# def get_imagesize_from_jsonfile(jsonfile):\n",
    "#     with open(jsonfile, 'r') as j:\n",
    "#         jsondata = json.loads(j.read())\n",
    "#     return (jsondata['item']['slots'][0]['height'], jsondata['item']['slots'][0]['width'])\n",
    "\n",
    "\n",
    "# def darwin_to_labelme_json(jsondata):\n",
    "#     # convert darwin json to labelme json format. \n",
    "\n",
    "#     # labelme json should have following format:\n",
    "#     # {'version': '4.5.6',\n",
    "#     #  'flags': {},\n",
    "#     #  'shapes': [\n",
    "#     #      {\n",
    "#     #       'label': 'duck',\n",
    "#     #       'points': [[xmin, ymin], [xmax, ymax]],\n",
    "#     #       'group_id': null,\n",
    "#     #       'shape_type': 'rectangle',\n",
    "#     #       'flags': {}\n",
    "#     #      },\n",
    "#     #      ...\n",
    "#     #  ],\n",
    "#     # 'imagePath': 'path/to/image/file',\n",
    "#     # 'imageData': 'base64 encoded image data',\n",
    "#     # 'imageHeight': 480,\n",
    "#     # 'imageWidth': 640}\n",
    "\n",
    "#     # ignore the 'imageData' field. \n",
    "\n",
    "#     image_name = get_imagename_from_jsonfile(jsondata)\n",
    "#     boxes = get_boxes_from_jsonfile(jsondata)\n",
    "#     labels = get_labels_from_jsonfile(jsondata)\n",
    "#     image_size = get_imagesize_from_jsonfile(jsondata)\n",
    "\n",
    "#     shapes = []\n",
    "#     for i in range(len(labels)):\n",
    "#         shape = {'label': labels[i],\n",
    "#                     'points': boxes[i],\n",
    "#                     'group_id': 'null',\n",
    "#                     'shape_type': 'rectangle',\n",
    "#                     'flags': {}}\n",
    "#         shapes.append(shape)\n",
    "\n",
    "#     for i in range(len(labels)):\n",
    "#         labelme_json = {'version': '4.5.6',\n",
    "#                         'flags': {},\n",
    "#                         'shapes': shapes,\n",
    "#                         'imagePath': image_name,\n",
    "#                         'imageData': '',\n",
    "#                         'imageHeight': image_size[0],\n",
    "#                         'imageWidth': image_size[1]}\n",
    "#     return labelme_json\n",
    "\n",
    "# jsonfile = \"S:/Savanna Institute/Deep Learning/DuckNet/Annotations/DJI_20221221103938_0079_Z.json\"\n",
    "# labelme_json = darwin_to_labelme_json(jsonfile)\n",
    "\n",
    "\n",
    "# with open('S:/Savanna Institute/Deep Learning/DuckNet/RetinaNet/filtered_annotations/DJI_20221221103938_0079_Z.json', 'w') as j:\n",
    "#         json.dump(labelme_json, j)\n",
    "\n",
    "# print(labelme_json)"
   ]
  },
  {
   "cell_type": "code",
   "execution_count": null,
   "metadata": {},
   "outputs": [],
   "source": [
    "# import os\n",
    "\n",
    "# dir = 'C:/Users/zack/Desktop/DuckNet_Data/'\n",
    "\n",
    "# # create two new folders in dir: LabelMe_Annotations_Test and LabelMe_Annotations_Train\n",
    "# os.makedirs(dir + 'LabelMe_Annotations_Test', exist_ok = True)\n",
    "# os.makedirs(dir + 'LabelMe_Annotations_Train', exist_ok = True)\n",
    "\n",
    "# # convert all json files in Annotations_Test to labelme json format and save them in LabelMe_Annotations_Test\n",
    "# for jsonfile in os.listdir(dir + 'Annotations_Test/'):\n",
    "#     labelme_json = darwin_to_labelme_json(dir + 'Annotations_Test/' + jsonfile)\n",
    "#     with open(dir + 'LabelMe_Annotations_Test/' + jsonfile, 'w') as j:\n",
    "#         json.dump(labelme_json, j)\n",
    "\n",
    "# # convert all json files in Annotations_Train to labelme json format and save them in LabelMe_Annotations_Train\n",
    "# for jsonfile in os.listdir(dir + 'Annotations_Train/'):\n",
    "#     labelme_json = darwin_to_labelme_json(dir + 'Annotations_Train/' + jsonfile)\n",
    "#     with open(dir + 'LabelMe_Annotations_Train/' + jsonfile, 'w') as j:\n",
    "#         json.dump(labelme_json, j)"
   ]
  }
 ],
 "metadata": {
  "kernelspec": {
   "display_name": "bohb_pt",
   "language": "python",
   "name": "python3"
  },
  "language_info": {
   "codemirror_mode": {
    "name": "ipython",
    "version": 3
   },
   "file_extension": ".py",
   "mimetype": "text/x-python",
   "name": "python",
   "nbconvert_exporter": "python",
   "pygments_lexer": "ipython3",
   "version": "3.9.20"
  }
 },
 "nbformat": 4,
 "nbformat_minor": 2
}
